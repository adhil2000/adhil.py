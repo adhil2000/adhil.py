{
 "cells": [
  {
   "cell_type": "code",
   "execution_count": 295,
   "outputs": [],
   "source": [
    "import numpy as np\n",
    "import math as m\n",
    "import scipy.stats as stats\n",
    "from scipy.stats import norm\n",
    "from scipy.stats import t"
   ],
   "metadata": {
    "collapsed": false,
    "pycharm": {
     "name": "#%%\n"
    }
   }
  },
  {
   "cell_type": "markdown",
   "source": [
    "Prob 1, Qs 1\n",
    "\n",
    "Null Hypothesis: The Mean Engagement of Knowledgeable Students is (0.75).\n",
    "\n",
    "Alternative Hypothesis: The Mean Engagement of Knowledgeable Students is not (0.75).\n",
    "\n",
    "Test Used: Z-Test because (# of data points > 30), therefore Central Limit Theorem can be applied"
   ],
   "metadata": {
    "collapsed": false
   }
  },
  {
   "cell_type": "markdown",
   "source": [
    "Prob 1, Qs 2"
   ],
   "metadata": {
    "collapsed": false
   }
  },
  {
   "cell_type": "code",
   "execution_count": 296,
   "outputs": [
    {
     "name": "stdout",
     "output_type": "stream",
     "text": [
      "Sample Size: 937\n",
      "Sample Mean: 0.7430304110448239\n",
      "Standard Error: 0.004153027288269652\n",
      "Standard Score: -1.6781948375012814\n",
      "P-Value: 0.09330906925243751\n"
     ]
    }
   ],
   "source": [
    "myFile = open('engagement_1.txt')\n",
    "data = myFile.readlines()\n",
    "data = [float(x) for x in data]\n",
    "size = len(data)\n",
    "avg = np.mean(data)\n",
    "sd = np.std(data, ddof = 1) / m.sqrt(size)\n",
    "z = (avg - 0.75) / sd\n",
    "p = 2 * norm.cdf(-abs(z))\n",
    "print(\"Sample Size: {}\".format(size))\n",
    "print(\"Sample Mean: {}\".format(avg))\n",
    "print(\"Standard Error: {}\".format(sd))\n",
    "print(\"Standard Score: {}\".format(z))\n",
    "print(\"P-Value: {}\".format(p))\n",
    "myFile.close()"
   ],
   "metadata": {
    "collapsed": false,
    "pycharm": {
     "name": "#%%\n"
    }
   }
  },
  {
   "cell_type": "markdown",
   "source": [
    "The results are significant at a level of (0.1) because the P-Value is less than (0.1).\n",
    "The results are NOT significant at a level of (0.05) because the P-Value is greater than\n",
    "(0.05). The results are NOT significant at a level of (0.01) because the P-Value is\n",
    "greater than (0.01). From this we can conclude that at (0.1) we reject the null\n",
    "hypothesis and at (0.5) & (0.01) we fail to reject the null hypothesis."
   ],
   "metadata": {
    "collapsed": false,
    "pycharm": {
     "name": "#%% md\n"
    }
   }
  },
  {
   "cell_type": "markdown",
   "source": [
    "Prob 1, Qs 3"
   ],
   "metadata": {
    "collapsed": false
   }
  },
  {
   "cell_type": "code",
   "execution_count": 297,
   "outputs": [
    {
     "name": "stdout",
     "output_type": "stream",
     "text": [
      "Largest Standard Error: 0.0035546701555212953\n",
      "Corresponding Minimum Sample Size: 1279\n"
     ]
    }
   ],
   "source": [
    "size = len(data)\n",
    "avg = np.mean(data)\n",
    "sd = np.std(data, ddof = 1) / m.sqrt(size)\n",
    "p = 2 * norm.cdf(-abs(z))\n",
    "while p >= 0.05:\n",
    "    size+=1\n",
    "    sd = np.std(data, ddof = 1) / m.sqrt(size)\n",
    "    z = (avg - 0.75) / sd\n",
    "    p = 2 * norm.cdf(-abs(z))\n",
    "print(\"Largest Standard Error: {}\".format(sd))\n",
    "print(\"Corresponding Minimum Sample Size: {}\".format(size))"
   ],
   "metadata": {
    "collapsed": false,
    "pycharm": {
     "name": "#%%\n"
    }
   }
  },
  {
   "cell_type": "markdown",
   "source": [
    "The largest standard error for which the test will be significant at a level of 0.05 is (0.0499).\n",
    "The corresponding minimum sample size is (1279)."
   ],
   "metadata": {
    "collapsed": false,
    "pycharm": {
     "name": "#%% md\n"
    }
   }
  },
  {
   "cell_type": "markdown",
   "source": [
    "Prob 1, Qs 4\n",
    "\n",
    "Null Hypothesis: The Mean Engagement of Knowledgeable Students is equivalent to The Mean Engagement of not knowledgeable Students.\n",
    "\n",
    "Alternative Hypothesis: The Mean Engagement of Knowledgeable Students is not equivalent to The Mean Engagement of  not knowledgeable Students.\n",
    "Test Used: Z-Test because (# of data points > 30), therefore Central Limit Theorem can be applied."
   ],
   "metadata": {
    "collapsed": false
   }
  },
  {
   "cell_type": "markdown",
   "source": [
    "Prob 1, Qs 5"
   ],
   "metadata": {
    "collapsed": false,
    "pycharm": {
     "name": "#%% md\n"
    }
   }
  },
  {
   "cell_type": "code",
   "execution_count": 298,
   "outputs": [
    {
     "name": "stdout",
     "output_type": "stream",
     "text": [
      "For Engagement_1, Sample Size: 937, Sample Mean: 0.7430304110448239\n",
      "For Engagement_0, Sample Size: 1977, Sample Mean: 0.6399545077035914\n",
      "Standard Error: 0.007065420910043284\n",
      "Z-Score: -14.588784540028351\n",
      "P-Value: 3.3104307168195455e-48\n"
     ]
    }
   ],
   "source": [
    "myFile1 = open('engagement_1.txt')\n",
    "data1 = myFile1.readlines()\n",
    "myFile2 = open('engagement_0.txt')\n",
    "data2 = myFile2.readlines()\n",
    "data1, data2 = [float(x) for x in data1], [float(y) for y in data2]\n",
    "size1, size2 = len(data1), len(data2)\n",
    "avg1, avg2 = np.mean(data1), np.mean(data2)\n",
    "sd1 = (np.std(data1, ddof = 1)**2) / size1\n",
    "sd2 = (np.std(data2, ddof = 1)**2) / size2\n",
    "sd = m.sqrt(sd1 + sd2)\n",
    "z = (avg2 - avg1) / sd\n",
    "p = 2 * norm.cdf(-abs(z))\n",
    "print(\"For Engagement_1, Sample Size: {}, Sample Mean: {}\".format(size1,avg1))\n",
    "print(\"For Engagement_0, Sample Size: {}, Sample Mean: {}\".format(size2, avg2))\n",
    "print(\"Standard Error: {}\".format(sd))\n",
    "print(\"Z-Score: {}\".format(z))\n",
    "print(\"P-Value: {}\".format(p))\n",
    "myFile1.close()\n",
    "myFile2.close()"
   ],
   "metadata": {
    "collapsed": false,
    "pycharm": {
     "name": "#%%\n"
    }
   }
  },
  {
   "cell_type": "markdown",
   "source": [
    "If the P-Value is less than the level, we Reject the Null Hypothesis\n",
    "Therefore, for levels (0.1), (0.05) and (0.01), we Reject the Null Hypothesis.\n",
    "Because of this, we can draw a similar conclusion for all these levels that\n",
    "the mean engagement of knowledgeable students is not the same as those not\n",
    "knowledgeable."
   ],
   "metadata": {
    "collapsed": false,
    "pycharm": {
     "name": "#%% md\n"
    }
   }
  },
  {
   "cell_type": "markdown",
   "source": [
    "Prob 2, Qs 1"
   ],
   "metadata": {
    "collapsed": false,
    "pycharm": {
     "name": "#%% md\n"
    }
   }
  },
  {
   "cell_type": "markdown",
   "source": [
    "A T-Test will be used."
   ],
   "metadata": {
    "collapsed": false,
    "pycharm": {
     "name": "#%% md\n"
    }
   }
  },
  {
   "cell_type": "code",
   "execution_count": 299,
   "outputs": [
    {
     "name": "stdout",
     "output_type": "stream",
     "text": [
      "T-Value: 1.8124611228107335\n",
      "90% Confidence Interval: (-1.8369195722533416, 16.56419229952607)\n"
     ]
    }
   ],
   "source": [
    "data = np.array([3, -3, 3, 12, 15, -16, 17, 19, 23, -24, 32])\n",
    "avg = np.mean(data)\n",
    "size = len(data)\n",
    "t_c = t.ppf(.95, size - 1)\n",
    "sd = np.std(data, ddof = 1) / m.sqrt(size)\n",
    "lower_b, upper_b = avg - (sd * t_c), avg + (sd * t_c)\n",
    "print(\"T-Value: {}\".format(t_c))\n",
    "print(\"90% Confidence Interval: ({}, {})\".format(lower_b, upper_b))"
   ],
   "metadata": {
    "collapsed": false,
    "pycharm": {
     "name": "#%%\n"
    }
   }
  },
  {
   "cell_type": "markdown",
   "source": [
    "Prob 2, Qs 2"
   ],
   "metadata": {
    "collapsed": false,
    "pycharm": {
     "name": "#%% md\n"
    }
   }
  },
  {
   "cell_type": "markdown",
   "source": [
    "A T-Test will be used."
   ],
   "metadata": {
    "collapsed": false
   }
  },
  {
   "cell_type": "code",
   "execution_count": 300,
   "outputs": [
    {
     "name": "stdout",
     "output_type": "stream",
     "text": [
      "Sample Mean: 7.363636363636363\n",
      "Standard Error: 5.0762776757504415\n",
      "T-Value: 2.2281388519649385\n",
      "95% Confidence Interval: (-3.9470151490654715, 18.674287876338198)\n"
     ]
    }
   ],
   "source": [
    "t_c = t.ppf(.975, size - 1)\n",
    "lower_b, upper_b = avg - (sd * t_c), avg + (sd * t_c)\n",
    "print(\"Sample Mean: {}\".format(avg))\n",
    "print(\"Standard Error: {}\".format(sd))\n",
    "print(\"T-Value: {}\".format(t_c))\n",
    "print(\"95% Confidence Interval: ({}, {})\".format(lower_b, upper_b))"
   ],
   "metadata": {
    "collapsed": false,
    "pycharm": {
     "name": "#%%\n"
    }
   }
  },
  {
   "cell_type": "markdown",
   "source": [
    "Compared to the 90% Confidence Interval, the 95% Confidence Interval is bigger."
   ],
   "metadata": {
    "collapsed": false
   }
  },
  {
   "cell_type": "markdown",
   "source": [
    "Prob 2, Qs 3"
   ],
   "metadata": {
    "collapsed": false,
    "pycharm": {
     "name": "#%% md\n"
    }
   }
  },
  {
   "cell_type": "markdown",
   "source": [
    "A Z-Test will be used."
   ],
   "metadata": {
    "collapsed": false
   }
  },
  {
   "cell_type": "code",
   "source": [
    "data = np.array([3, -3, 3, 12, 15, -16, 17, 19, 23, -24, 32])\n",
    "avg = np.mean(data)\n",
    "size = len(data)\n",
    "z_c = norm.ppf(.975)\n",
    "sd = 16.836/ m.sqrt(size)\n",
    "lower_b, upper_b = avg - (sd * z_c), avg + (sd * z_c)\n",
    "print(\"Standard Error: {}\".format(sd))\n",
    "print(\"Z-Value: {}\".format(z_c))\n",
    "print(\"95% Confidence Interval: ({}, {})\".format(lower_b, upper_b))"
   ],
   "metadata": {
    "collapsed": false,
    "pycharm": {
     "name": "#%%\n"
    }
   },
   "execution_count": 301,
   "outputs": [
    {
     "name": "stdout",
     "output_type": "stream",
     "text": [
      "Standard Error: 5.076244997311228\n",
      "Z-Value: 1.959963984540054\n",
      "95% Confidence Interval: (-2.585621007795268, 17.312893735067995)\n"
     ]
    }
   ]
  },
  {
   "cell_type": "markdown",
   "source": [
    "Some Notable Differences:\n",
    "- Standard error is smaller in Q3.\n",
    "- Z-Value is less than the T-Value from Q1.\n",
    "- 95% Confidence Interval is smaller in Q3."
   ],
   "metadata": {
    "collapsed": false,
    "pycharm": {
     "name": "#%% md\n"
    }
   }
  },
  {
   "cell_type": "markdown",
   "source": [
    "Prob 2, Q4"
   ],
   "metadata": {
    "collapsed": false,
    "pycharm": {
     "name": "#%% md\n"
    }
   }
  },
  {
   "cell_type": "code",
   "execution_count": 302,
   "outputs": [
    {
     "name": "stdout",
     "output_type": "stream",
     "text": [
      "With a confidence of 82.24600000005805%, we can say that the team is expected to win on average\n"
     ]
    }
   ],
   "source": [
    "avg = np.mean(data)\n",
    "size = len(data)\n",
    "c = 0.95\n",
    "sd = np.std(data, ddof = 1) / m.sqrt(size)\n",
    "t_c = stats.t.ppf(1-(1-c)/2, size- 1)\n",
    "lower_b = avg - (sd * t_c)\n",
    "while lower_b <= 0:\n",
    "    t_c = stats.t.ppf(1-(1-c)/2, size - 1)\n",
    "    lower_b = avg - (sd * t_c)\n",
    "    c -= 0.00001\n",
    "c_level = c * 100\n",
    "print(\"With a confidence of {}%, we can say that the team is expected to win on average\".format(c_level))\n"
   ],
   "metadata": {
    "collapsed": false,
    "pycharm": {
     "name": "#%%\n"
    }
   }
  }
 ],
 "metadata": {
  "kernelspec": {
   "display_name": "Python 3",
   "language": "python",
   "name": "python3"
  },
  "language_info": {
   "codemirror_mode": {
    "name": "ipython",
    "version": 2
   },
   "file_extension": ".py",
   "mimetype": "text/x-python",
   "name": "python",
   "nbconvert_exporter": "python",
   "pygments_lexer": "ipython2",
   "version": "2.7.6"
  }
 },
 "nbformat": 4,
 "nbformat_minor": 0
}